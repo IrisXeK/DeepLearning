{
 "cells": [
  {
   "cell_type": "code",
   "execution_count": null,
   "metadata": {},
   "outputs": [],
   "source": [
    "from st_train import *\n",
    "batch_size = 256\n",
    "num_epochs = 16\n",
    "learning_rate = 0.1\n",
    "train_set, test_set = (\n",
    "            data.DataLoader(torchvision.datasets.FashionMNIST(root='./data', train=True,\n",
    "                                                                        transform=transforms.ToTensor(),\n",
    "                                                                        download=True),\n",
    "                            num_workers=16, batch_size=batch_size, shuffle=True),\n",
    "            data.DataLoader(torchvision.datasets.FashionMNIST(root='./data', train=False,\n",
    "                                                                        transform=transforms.ToTensor(),\n",
    "                                                                        download=True),\n",
    "                            num_workers=16, batch_size=batch_size, shuffle=False))\n",
    "def weight_init(m): # 初始化权重矩阵\n",
    "    if isinstance(m,nn.Linear):\n",
    "        return nn.init.normal_(m.weight,mean=0,std=0.01) # 这个函数将一个tensor用正态分布的值填满\n",
    "\"\"\"\n",
    "定义网络net:\n",
    "Pytorch不会隐性地调整输入的形状,所以定义一个展平层Flatten()调整网络的输入形状\n",
    "\"\"\"\n",
    "\n",
    "net = nn.Sequential(\n",
    "    nn.Flatten(),\n",
    "    nn.Linear(784,10)\n",
    ")\n",
    "\n",
    "\n",
    "net.apply(weight_init)\n",
    "loss_function = nn.CrossEntropyLoss(reduction='none')\n",
    "updater = torch.optim.SGD(net.parameters(), lr=learning_rate)\n",
    "std_train(net, train_set, test_set, loss_function, num_epochs, updater)\n",
    "std_prediction(net, test_set, 6)"
   ]
  }
 ],
 "metadata": {
  "kernelspec": {
   "display_name": "Pytorch",
   "language": "python",
   "name": "python3"
  },
  "language_info": {
   "codemirror_mode": {
    "name": "ipython",
    "version": 3
   },
   "file_extension": ".py",
   "mimetype": "text/x-python",
   "name": "python",
   "nbconvert_exporter": "python",
   "pygments_lexer": "ipython3",
   "version": "3.12.2"
  }
 },
 "nbformat": 4,
 "nbformat_minor": 2
}
