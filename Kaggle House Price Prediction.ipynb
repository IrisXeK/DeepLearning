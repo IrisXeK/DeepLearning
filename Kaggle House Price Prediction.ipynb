{
 "cells": [
  {
   "cell_type": "code",
   "execution_count": 1,
   "metadata": {
    "tags": [
     "Download"
    ]
   },
   "outputs": [
    {
     "ename": "AttributeError",
     "evalue": "partially initialized module 'charset_normalizer' has no attribute 'md__mypyc' (most likely due to a circular import)",
     "output_type": "error",
     "traceback": [
      "\u001b[0;31m---------------------------------------------------------------------------\u001b[0m",
      "\u001b[0;31mAttributeError\u001b[0m                            Traceback (most recent call last)",
      "Cell \u001b[0;32mIn[1], line 6\u001b[0m\n\u001b[1;32m      4\u001b[0m \u001b[38;5;28;01mimport\u001b[39;00m \u001b[38;5;21;01mzipfile\u001b[39;00m\n\u001b[1;32m      5\u001b[0m \u001b[38;5;28;01mimport\u001b[39;00m \u001b[38;5;21;01mhashlib\u001b[39;00m\n\u001b[0;32m----> 6\u001b[0m \u001b[38;5;28;01mimport\u001b[39;00m \u001b[38;5;21;01mrequests\u001b[39;00m\n\u001b[1;32m      7\u001b[0m \u001b[38;5;28;01mimport\u001b[39;00m \u001b[38;5;21;01mnumpy\u001b[39;00m \u001b[38;5;28;01mas\u001b[39;00m \u001b[38;5;21;01mnp\u001b[39;00m\n\u001b[1;32m      8\u001b[0m \u001b[38;5;28;01mimport\u001b[39;00m \u001b[38;5;21;01mpandas\u001b[39;00m \u001b[38;5;28;01mas\u001b[39;00m \u001b[38;5;21;01mpd\u001b[39;00m\n",
      "File \u001b[0;32m~/.conda/envs/Pytorch/lib/python3.11/site-packages/requests/__init__.py:48\u001b[0m\n\u001b[1;32m     45\u001b[0m \u001b[38;5;28;01mfrom\u001b[39;00m \u001b[38;5;21;01m.\u001b[39;00m\u001b[38;5;21;01mexceptions\u001b[39;00m \u001b[38;5;28;01mimport\u001b[39;00m RequestsDependencyWarning\n\u001b[1;32m     47\u001b[0m \u001b[38;5;28;01mtry\u001b[39;00m:\n\u001b[0;32m---> 48\u001b[0m     \u001b[38;5;28;01mfrom\u001b[39;00m \u001b[38;5;21;01mcharset_normalizer\u001b[39;00m \u001b[38;5;28;01mimport\u001b[39;00m __version__ \u001b[38;5;28;01mas\u001b[39;00m charset_normalizer_version\n\u001b[1;32m     49\u001b[0m \u001b[38;5;28;01mexcept\u001b[39;00m \u001b[38;5;167;01mImportError\u001b[39;00m:\n\u001b[1;32m     50\u001b[0m     charset_normalizer_version \u001b[38;5;241m=\u001b[39m \u001b[38;5;28;01mNone\u001b[39;00m\n",
      "File \u001b[0;32m~/.conda/envs/Pytorch/lib/python3.11/site-packages/charset_normalizer/__init__.py:23\u001b[0m\n\u001b[1;32m      1\u001b[0m \u001b[38;5;124;03m\"\"\"\u001b[39;00m\n\u001b[1;32m      2\u001b[0m \u001b[38;5;124;03mCharset-Normalizer\u001b[39;00m\n\u001b[1;32m      3\u001b[0m \u001b[38;5;124;03m~~~~~~~~~~~~~~\u001b[39;00m\n\u001b[0;32m   (...)\u001b[0m\n\u001b[1;32m     21\u001b[0m \u001b[38;5;124;03m:license: MIT, see LICENSE for more details.\u001b[39;00m\n\u001b[1;32m     22\u001b[0m \u001b[38;5;124;03m\"\"\"\u001b[39;00m\n\u001b[0;32m---> 23\u001b[0m \u001b[38;5;28;01mfrom\u001b[39;00m \u001b[38;5;21;01mcharset_normalizer\u001b[39;00m\u001b[38;5;21;01m.\u001b[39;00m\u001b[38;5;21;01mapi\u001b[39;00m \u001b[38;5;28;01mimport\u001b[39;00m from_fp, from_path, from_bytes, normalize\n\u001b[1;32m     24\u001b[0m \u001b[38;5;28;01mfrom\u001b[39;00m \u001b[38;5;21;01mcharset_normalizer\u001b[39;00m\u001b[38;5;21;01m.\u001b[39;00m\u001b[38;5;21;01mlegacy\u001b[39;00m \u001b[38;5;28;01mimport\u001b[39;00m detect\n\u001b[1;32m     25\u001b[0m \u001b[38;5;28;01mfrom\u001b[39;00m \u001b[38;5;21;01mcharset_normalizer\u001b[39;00m\u001b[38;5;21;01m.\u001b[39;00m\u001b[38;5;21;01mversion\u001b[39;00m \u001b[38;5;28;01mimport\u001b[39;00m __version__, VERSION\n",
      "File \u001b[0;32m~/.conda/envs/Pytorch/lib/python3.11/site-packages/charset_normalizer/api.py:10\u001b[0m\n\u001b[1;32m      7\u001b[0m     PathLike \u001b[38;5;241m=\u001b[39m Union[\u001b[38;5;28mstr\u001b[39m, \u001b[38;5;124m'\u001b[39m\u001b[38;5;124mos.PathLike[str]\u001b[39m\u001b[38;5;124m'\u001b[39m]  \u001b[38;5;66;03m# type: ignore\u001b[39;00m\n\u001b[1;32m      9\u001b[0m \u001b[38;5;28;01mfrom\u001b[39;00m \u001b[38;5;21;01mcharset_normalizer\u001b[39;00m\u001b[38;5;21;01m.\u001b[39;00m\u001b[38;5;21;01mconstant\u001b[39;00m \u001b[38;5;28;01mimport\u001b[39;00m TOO_SMALL_SEQUENCE, TOO_BIG_SEQUENCE, IANA_SUPPORTED\n\u001b[0;32m---> 10\u001b[0m \u001b[38;5;28;01mfrom\u001b[39;00m \u001b[38;5;21;01mcharset_normalizer\u001b[39;00m\u001b[38;5;21;01m.\u001b[39;00m\u001b[38;5;21;01mmd\u001b[39;00m \u001b[38;5;28;01mimport\u001b[39;00m mess_ratio\n\u001b[1;32m     11\u001b[0m \u001b[38;5;28;01mfrom\u001b[39;00m \u001b[38;5;21;01mcharset_normalizer\u001b[39;00m\u001b[38;5;21;01m.\u001b[39;00m\u001b[38;5;21;01mmodels\u001b[39;00m \u001b[38;5;28;01mimport\u001b[39;00m CharsetMatches, CharsetMatch\n\u001b[1;32m     12\u001b[0m \u001b[38;5;28;01mfrom\u001b[39;00m \u001b[38;5;21;01mwarnings\u001b[39;00m \u001b[38;5;28;01mimport\u001b[39;00m warn\n",
      "\u001b[0;31mAttributeError\u001b[0m: partially initialized module 'charset_normalizer' has no attribute 'md__mypyc' (most likely due to a circular import)"
     ]
    }
   ],
   "source": [
    "import os\n",
    "import torch\n",
    "import tarfile\n",
    "import zipfile\n",
    "import hashlib\n",
    "import requests\n",
    "import numpy as np\n",
    "import pandas as pd\n",
    "import torch.nn as nn\n",
    "import matplotlib.pyplot as plt\n",
    "DATA_HUB = dict() # 存储文件路径及文件对应的SHA-1哈希值\n",
    "DATA_URL = 'http://d2l-data.s3-accelerate.amazonaws.com/'\n",
    "DATA_HUB['kaggle_house_train'] = (DATA_URL + 'kaggle_house_pred_train.csv',\n",
    "                                '585e9cc93e70b39160e7921475f9bcd7d31219ce')\n",
    "DATA_HUB['kaggle_house_test'] = (DATA_URL + 'kaggle_house_pred_test.csv',\n",
    "                                'fa19780a7b011d9b009e8bff8e99922a8ee2eb90')\n",
    "def download(name, cache_dir=os.path.join('..', 'data','house pred')):\n",
    "    \"\"\"下载一个DATA_HUB中的文件并返回本地文件名\"\"\"\n",
    "    assert name in DATA_HUB, f\"{name} 不存在于 {DATA_HUB}\"\n",
    "    url, sha1_hash = DATA_HUB[name]\n",
    "    os.makedirs(cache_dir, exist_ok=True)\n",
    "    fname = os.path.join(cache_dir, url.split('/')[-1])\n",
    "    if os.path.exists(fname):\n",
    "        sha1 = hashlib.sha1() # 计算给定字符串的SHA-1哈希值\n",
    "        with open(fname, 'rb') as f:\n",
    "            while True:\n",
    "                data = f.read(1048576) # 参数:读取1MB内容\n",
    "                if not data:\n",
    "                    break\n",
    "                sha1.update(data)\n",
    "        if sha1.hexdigest() == sha1_hash: # 检查哈希值判定文件是否已经存在\n",
    "            return fname # 命中缓存\n",
    "    print(f'正在从{url}下载{fname}...')\n",
    "    r = requests.get(url, stream=True, verify=True)\n",
    "    with open(fname, 'wb') as f:\n",
    "        f.write(r.content)\n",
    "    return fname\n",
    "def download_extract(name, folder=None):\n",
    "    \"\"\"下载并解压zip/tar文件\"\"\"\n",
    "    fname = download(name)\n",
    "    base_dir = os.path.dirname(fname) # dirname(name)查询name文件所在的文件夹的路径\n",
    "    data_dir, ext = os.path.splitext(fname) # splitext 将文件名与文件后缀(如.zip)分割为具有两元素的元组\n",
    "    if ext == '.zip':\n",
    "        fp = zipfile.ZipFile(fname, 'r')\n",
    "    elif ext in ('.tar', '.gz'):\n",
    "        fp = tarfile.open(fname, 'r')\n",
    "    else:\n",
    "        assert False, '只有zip/tar文件可以被解压缩'\n",
    "    fp.extractall(base_dir) # 将压缩的文件解压到base_dir路径下\n",
    "    return os.path.join(base_dir, folder) if folder else data_dir\n",
    "def download_all():\n",
    "    \"\"\"下载DATA_HUB中的所有文件\"\"\"\n",
    "    for name in DATA_HUB:\n",
    "        download(name)\n",
    "\n",
    "\"\"\"\n",
    "Kaggle房价数据集:\n",
    "训练数据集包括1460个样本,每个样本80个特征和1个标签\n",
    "测试数据集包含1459个样本,每个样本80个特征。\n",
    "数据集的第一列是序号,需要切片去掉\n",
    "\"\"\"\n",
    "train_data = pd.read_csv(download('kaggle_house_train'))\n",
    "test_data = pd.read_csv(download('kaggle_house_test'))"
   ]
  },
  {
   "cell_type": "code",
   "execution_count": null,
   "metadata": {
    "tags": [
     "Load Data"
    ]
   },
   "outputs": [],
   "source": [
    "all_features = pd.concat((train_data.iloc[:, 1:-1], test_data.iloc[:, 1:]))\n",
    "# 处理数据之前 需要将所有缺失的值替换为相应特征的平均值,并将所有特征缩放到同一尺度上\n",
    "# 特征缩放方法: x[i] = (x[i] - mean(x))/std(x)  mean是均值 std是标准差 此方法将特征x的均值置为0,标准差置为1\n",
    "# 若无法获得测试数据，则可根据训练数据计算均值和标准差\n",
    "numeric_features_idx = all_features.dtypes[all_features.dtypes != 'object'].index # 找到所有值为数字的列的名称索引\n",
    "all_features[numeric_features_idx] = all_features[numeric_features_idx].apply(lambda x: (x - x.mean()) / (x.std())) # apply()将一个函数应用于某一轴\n",
    "# 在标准化数据之后，所有均值消失，因此可以将缺失值设置为0\n",
    "all_features[numeric_features_idx] = all_features[numeric_features_idx].fillna(0) # fillna()函数将缺失值置为指定值\n",
    "# get_dummies 将非数字列创建为一个独热标签, dummy_na=True表示为NA的列创建一个指示列,指示哪些地方为NA\n",
    "all_features = pd.get_dummies(all_features, dummy_na=True,dtype=int)\n",
    "n_train = train_data.shape[0]\n",
    "# 用.values从pandas.DataFrame中提取numpy格式\n",
    "train_features = torch.tensor(all_features[:n_train].values, dtype=torch.float32)\n",
    "train_labels = torch.tensor(train_data.SalePrice.values.reshape(-1,1), dtype=torch.float32)\n",
    "test_features = torch.tensor(all_features[n_train:].values, dtype=torch.float32)"
   ]
  },
  {
   "cell_type": "code",
   "execution_count": null,
   "metadata": {
    "tags": [
     "Train"
    ]
   },
   "outputs": [],
   "source": [
    "loss_function = nn.MSELoss() # 均方误差损失函数\n",
    "in_features = train_features.shape[1]\n",
    "\n",
    "net = nn.Sequential(\n",
    "    nn.Linear(in_features, 1))\n",
    "\n",
    "def log_RMSE(net, features, labels):\n",
    "    # 为了取对数时进一步稳定该值, 将小于1的值设为1\n",
    "    preds = torch.clamp(net(features), min=1, max=float('inf')) # clamp():将tensor中的值限制在[min,max]范围内,在范围外的被取为最小/最大值\n",
    "    RMSELoss = torch.sqrt(loss_function(torch.log(preds), torch.log(labels)))# 均方根对数误差 = sqrt( (1/n) * Sigma(1,n){log y[i]-log y_hat[i]} )\n",
    "    return RMSELoss.item() # .item() 取出tensor中的值 比如 tensor(1.4142) -> 1.4142"
   ]
  },
  {
   "cell_type": "code",
   "execution_count": null,
   "metadata": {
    "tags": [
     "Optimize"
    ]
   },
   "outputs": [],
   "source": [
    "# 借助Adam优化器优化\n",
    "from torch.utils.data import TensorDataset, DataLoader\n",
    "def train(net, train_features, train_labels, test_features, test_labels, \n",
    "          num_epoches, batch_size ,learning_rate, weight_decay):\n",
    "      train_res, test_res =[], []  # 用于记录每次训练的损失\n",
    "      train_dataset = TensorDataset(train_features,train_labels)\n",
    "      train_iter = DataLoader(train_dataset, batch_size=batch_size, shuffle=True)\n",
    "      optimizer = torch.optim.Adam(net.parameters(), lr=learning_rate, weight_decay=weight_decay)\n",
    "      for epoch in range(num_epoches):\n",
    "            for X, y in train_iter:\n",
    "                  optimizer.zero_grad()\n",
    "                  loss = loss_function(net(X), y)\n",
    "                  loss.backward()\n",
    "                  optimizer.step()\n",
    "            train_res.append(log_RMSE(net, train_features, train_labels))\n",
    "            if test_res is not None:\n",
    "                  test_res.append(log_RMSE(net, test_features, test_labels))\n",
    "      return train_res, test_res"
   ]
  },
  {
   "cell_type": "code",
   "execution_count": null,
   "metadata": {
    "tags": [
     "K Fold Cross Validation"
    ]
   },
   "outputs": [],
   "source": [
    "def get_K_fold_data(K, i, X, y) -> torch.Tensor: # 返回第i折的数据 即选择第i个切片作为验证数据,其余部分作为训练数据\n",
    "    assert K > 1\n",
    "    folder_size = X.shape[0] // K\n",
    "    X_train, y_train = None, None\n",
    "    for j in range(K):\n",
    "        idx = slice(j*folder_size, (j+1)*folder_size) # 创建一个slice类 slice类可作为列表的索引使用 slice(start, end, step) -> list[start : end : step]\n",
    "        X_part, y_part = X[idx, : ], y[idx] # 选择第j个切片\n",
    "        if j == i: # j=i 时 为不选择的第i个切片,即验证集\n",
    "            X_valid, y_valid = X_part, y_part\n",
    "        elif X_train is None:\n",
    "            X_train, y_train = X_part, y_part\n",
    "        else: # j != i 时 将j部分的切片连接到训练集上\n",
    "            X_train = torch.cat([X_train, X_part], dim=0)\n",
    "            y_train = torch.cat([y_train, y_part], dim=0)\n",
    "    return X_train, y_train, X_valid, y_valid\n",
    "def K_fold(K, X_train, y_train, num_epochs, batch_size,learning_rate, weight_decay) -> float :\n",
    "    # 返回在K折交叉验证中训练K次后 训练和验证误差的平均值\n",
    "    train_loss_sum, valid_loss_sum = 0, 0\n",
    "    for i in range(K):\n",
    "        data = get_K_fold_data(K, i, X_train, y_train)\n",
    "        train_res, valid_res = train(net, *data, num_epochs, batch_size, learning_rate, weight_decay)\n",
    "        train_loss_sum += train_res[-1]\n",
    "        valid_loss_sum += valid_res[-1]\n",
    "        if i == 0:\n",
    "            plt.plot(list(range(1, num_epochs+1)), train_res, label = \"train_loss\")\n",
    "            plt.plot(list(range(1, num_epochs+1)), valid_res, label = \"valid_loss\")\n",
    "            plt.xlabel('num_epoch'), plt.ylabel('loss')\n",
    "            plt.title('Train Result')\n",
    "            plt.legend()\n",
    "        print(f'折{i + 1},训练log rmse{float(train_res[-1]):f}, '\n",
    "            f'验证log rmse{float(valid_res[-1]):f}')\n",
    "    return train_loss_sum / K, valid_loss_sum / K\n"
   ]
  },
  {
   "cell_type": "code",
   "execution_count": null,
   "metadata": {},
   "outputs": [
    {
     "name": "stdout",
     "output_type": "stream",
     "text": [
      "折1,训练log rmse1.446519, 验证log rmse1.457421\n",
      "折2,训练log rmse0.776148, 验证log rmse0.785267\n",
      "折3,训练log rmse0.411644, 验证log rmse0.427960\n",
      "折4,训练log rmse0.220224, 验证log rmse0.244458\n",
      "折5,训练log rmse0.179701, 验证log rmse0.159603\n",
      "折6,训练log rmse0.163096, 验证log rmse0.173118\n",
      "折7,训练log rmse0.158563, 验证log rmse0.172639\n",
      "7-折验证: 平均训练log rmse: 0.479414, 平均验证log rmse: 0.488638\n"
     ]
    },
    {
     "data": {
      "image/png": "[encoded data removed]",
      "text/plain": [
       "<Figure size 640x480 with 1 Axes>"
      ]
     },
     "metadata": {},
     "output_type": "display_data"
    }
   ],
   "source": [
    "k, num_epochs, learning_rate, weight_decay, batch_size = 7, 100, 0.5, 0, 64\n",
    "train_loss, valid_loss = K_fold(k, train_features, train_labels, num_epochs, batch_size, learning_rate, weight_decay)\n",
    "print(f'{k}-折验证: 平均训练log rmse: {float(train_loss):f}, '\n",
    "      f'平均验证log rmse: {float(valid_loss):f}')"
   ]
  },
  {
   "cell_type": "code",
   "execution_count": null,
   "metadata": {},
   "outputs": [],
   "source": [
    "pred = net(test_features)\n",
    "pred_csv = pd.Series(data = pred.detach().numpy().flatten(), index=list(range(1,1460)))\n",
    "pred_csv.to_csv(\"result.csv\")"
   ]
  },
  {
   "cell_type": "markdown",
   "metadata": {},
   "source": []
  }
 ],
 "metadata": {
  "kernelspec": {
   "display_name": "Pytorch",
   "language": "python",
   "name": "python3"
  },
  "language_info": {
   "codemirror_mode": {
    "name": "ipython",
    "version": 3
   },
   "file_extension": ".py",
   "mimetype": "text/x-python",
   "name": "python",
   "nbconvert_exporter": "python",
   "pygments_lexer": "ipython3",
   "version": "3.11.9"
  }
 },
 "nbformat": 4,
 "nbformat_minor": 2
}
