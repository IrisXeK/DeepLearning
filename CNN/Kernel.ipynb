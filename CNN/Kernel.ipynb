{
 "cells": [
  {
   "cell_type": "code",
   "execution_count": 4,
   "metadata": {},
   "outputs": [
    {
     "data": {
      "text/plain": [
       "tensor([[[[0.7980, 0.3266, 0.0149, 0.0018, 0.5269, 0.7532, 0.5109, 0.3250],\n",
       "          [0.6002, 0.7806, 0.1040, 0.3201, 0.3426, 0.5613, 0.8292, 0.8370],\n",
       "          [0.9809, 0.6089, 0.4314, 0.8529, 0.0468, 0.4201, 0.5082, 0.7860],\n",
       "          [0.7438, 0.8606, 0.3403, 0.3002, 0.1034, 0.7297, 0.3852, 0.8072],\n",
       "          [0.9120, 0.9600, 0.4255, 0.9333, 0.8492, 0.9001, 0.3956, 0.0374],\n",
       "          [0.6657, 0.8131, 0.1924, 0.7095, 0.6528, 0.8012, 0.6175, 0.7384]]]])"
      ]
     },
     "execution_count": 4,
     "metadata": {},
     "output_type": "execute_result"
    }
   ],
   "source": [
    "import torch\n",
    "from torch import nn\n",
    "\n",
    "conv2d = nn.Conv2d(in_channels=1, out_channels=1, \n",
    "                   kernel_size=(1,2), bias=False) # 构造二维卷积层 具有一个输出通道和形状为(1,2)的卷积核\n",
    "# 这个二维卷积层使用四维输入和输出格式（批量大小、通道、高度、宽度），\n",
    "# 其中批量大小和通道数都为1\n",
    "X = torch.rand(size=(6,8))\n",
    "print(X)\n",
    "X = X.reshape((1,1,6,8))\n",
    "X"
   ]
  }
 ],
 "metadata": {
  "kernelspec": {
   "display_name": "Python 3",
   "language": "python",
   "name": "python3"
  },
  "language_info": {
   "codemirror_mode": {
    "name": "ipython",
    "version": 3
   },
   "file_extension": ".py",
   "mimetype": "text/x-python",
   "name": "python",
   "nbconvert_exporter": "python",
   "pygments_lexer": "ipython3",
   "version": "3.12.2"
  }
 },
 "nbformat": 4,
 "nbformat_minor": 2
}
