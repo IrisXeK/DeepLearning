{
 "cells": [
  {
   "cell_type": "code",
   "execution_count": 1,
   "metadata": {},
   "outputs": [],
   "source": [
    "import torchvision\n",
    "import st_train\n",
    "from torch import nn\n",
    "from torch.utils import data\n",
    "# VGGNet是使用块的现代卷积神经网络,每个块中有若干个卷积层,最后池化\n",
    "def vgg_blocks(in_channels, out_channels, num_convs): # num_convs表示一个块中有多少个卷积层\n",
    "    layers = []\n",
    "    for _ in range(num_convs): # 循环添加卷积层\n",
    "        layers.append(nn.Conv2d(in_channels, out_channels, kernel_size=3, padding=1))\n",
    "        layers.append(nn.ReLU())\n",
    "        in_channels = out_channels\n",
    "    layers.append(nn.MaxPool2d(kernel_size=2, stride=2))\n",
    "    return nn.Sequential(*layers)\n",
    "\n",
    "def vgg(conv_arch): # conv_arch是一个超参数 该变量指定了每个VGG块里卷积层个数和输出通道数\n",
    "    conv_blocks = []\n",
    "    in_channels = 1\n",
    "    for (num_convs, out_channels) in conv_arch: # 卷积层部分\n",
    "        conv_blocks.append(vgg_blocks(in_channels, out_channels, num_convs))\n",
    "        in_channels = out_channels\n",
    "    return nn.Sequential(\n",
    "        *conv_blocks,nn.Flatten(),\n",
    "        # 全连接层部分\n",
    "        nn.Linear(out_channels*7*7, 4096), nn.ReLU(), nn.Dropout(0.5),\n",
    "        nn.Linear(4096, 4096), nn.ReLU(), nn.Dropout(0.5),\n",
    "        nn.Linear(4096, 10))\n",
    "conv_arch = ((1, 64), (1, 128), (2, 256), (2, 512), (2, 512))\n"
   ]
  }
 ],
 "metadata": {
  "kernelspec": {
   "display_name": "Pytorch",
   "language": "python",
   "name": "python3"
  },
  "language_info": {
   "codemirror_mode": {
    "name": "ipython",
    "version": 3
   },
   "file_extension": ".py",
   "mimetype": "text/x-python",
   "name": "python",
   "nbconvert_exporter": "python",
   "pygments_lexer": "ipython3",
   "version": "3.11.9"
  }
 },
 "nbformat": 4,
 "nbformat_minor": 2
}
