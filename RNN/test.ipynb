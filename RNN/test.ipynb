{
 "cells": [
  {
   "cell_type": "code",
   "execution_count": 1,
   "metadata": {},
   "outputs": [
    {
     "name": "stdout",
     "output_type": "stream",
     "text": [
      "tensor([[[ 1.1480, -0.2157, -1.0901],\n",
      "         [ 0.0888, -0.7192,  0.5838],\n",
      "         [ 1.0475, -1.3053,  0.3388],\n",
      "         [-0.3146, -2.0120, -1.3446]],\n",
      "\n",
      "        [[-0.3146, -2.0120, -1.3446],\n",
      "         [ 1.0475, -1.3053,  0.3388],\n",
      "         [ 0.0888, -0.7192,  0.5838],\n",
      "         [ 1.1480, -0.2157, -1.0901]]], grad_fn=<EmbeddingBackward0>)\n"
     ]
    }
   ],
   "source": [
    "import torch\n",
    "import torch.nn as nn\n",
    "\n",
    "# 定义一个 Embedding 层\n",
    "embedding = nn.Embedding(num_embeddings=10, embedding_dim=3)\n",
    "\n",
    "# 创建一些索引输入（批量大小为2，序列长度为4）\n",
    "input_indices = torch.tensor([[1, 2, 3, 4], [4, 3, 2, 1]])\n",
    "\n",
    "# 通过 Embedding 层获取嵌入向量\n",
    "output = embedding(input_indices)\n",
    "\n",
    "print(output)\n"
   ]
  },
  {
   "cell_type": "code",
   "execution_count": null,
   "metadata": {},
   "outputs": [],
   "source": []
  },
  {
   "cell_type": "markdown",
   "metadata": {},
   "source": [
    "$\\tilde{X}$"
   ]
  }
 ],
 "metadata": {
  "kernelspec": {
   "display_name": "Pytorch",
   "language": "python",
   "name": "python3"
  },
  "language_info": {
   "codemirror_mode": {
    "name": "ipython",
    "version": 3
   },
   "file_extension": ".py",
   "mimetype": "text/x-python",
   "name": "python",
   "nbconvert_exporter": "python",
   "pygments_lexer": "ipython3",
   "version": "3.11.9"
  }
 },
 "nbformat": 4,
 "nbformat_minor": 2
}
