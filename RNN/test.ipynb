{
 "cells": [
  {
   "cell_type": "code",
   "execution_count": null,
   "metadata": {},
   "outputs": [],
   "source": [
    "from collections import Counter\n",
    "class Vocabulary:\n",
    "    def __init__(self, min_freq, tokens=None, reserved_tokens=None) -> None:\n",
    "        if tokens is None:\n",
    "            tokens = []\n",
    "        if reserved_tokens is None:\n",
    "            reserved_tokens = []\n",
    "        word_freq = self.count_words(tokens)\n",
    "        self.token_freq = sorted(word_freq.items(), key=lambda dict_pair:dict_pair[1], reverse=True)\n",
    "        self.idx_to_token = ['unk'] + reserved_tokens\n",
    "        self.token_to_idx = {token:idx for idx, token in enumerate(self.idx_to_token)}\n",
    "        for token, freq in self.token_freq:\n",
    "            if freq < min_freq:\n",
    "                break\n",
    "            if token not in self.token_to_idx:\n",
    "                self.idx_to_token.append(token)\n",
    "                self.token_to_idx[token] = len(self.idx_to_token)-1\n",
    "\n",
    "    def count_words(self, tokens_list):\n",
    "        if len(tokens_list) == 0 or isinstance(tokens_list[0], list):\n",
    "            tokens_list = [token for line in tokens_list for token in line]\n",
    "        return Counter(tokens_list)\n",
    "    \n",
    "    def __len__(self):\n",
    "        return len(self.idx_to_token)\n",
    "\n",
    "    def __getitem__(self, tokens):\n",
    "        if not isinstance(tokens, (list, tuple)):\n",
    "            return self.token_to_idx.get(tokens, self.unk_idx)\n",
    "        return [self.__getitem__(token) for token in tokens]\n"
   ]
  },
  {
   "cell_type": "code",
   "execution_count": 7,
   "metadata": {},
   "outputs": [
    {
     "name": "stdout",
     "output_type": "stream",
     "text": [
      "torch.Size([2, 2, 5, 5])\n"
     ]
    },
    {
     "data": {
      "image/png": "[encoded data removed]",
      "text/plain": [
       "<Figure size 250x250 with 5 Axes>"
      ]
     },
     "metadata": {},
     "output_type": "display_data"
    }
   ],
   "source": [
    "import torch\n",
    "import matplotlib.pyplot as plt\n",
    "\n",
    "def show_heatmaps(matrices, xlabel, ylabel, titles=None, figsize=(2.5,2.5), cmap='Reds'):\n",
    "    \"\"\"\n",
    "    显示矩阵热图的函数\\n\n",
    "    参数:\\n\n",
    "        matrices : 一个四维矩阵列表, shape=(要显示的行数, 要显示的列数, 每个矩阵的行数, 每个矩阵的列数)\\n\n",
    "    \"\"\"\n",
    "    print(matrices.shape)\n",
    "    num_rows, num_cols = matrices.shape[0], matrices.shape[1]\n",
    "    fig, axes = plt.subplots(num_rows, num_cols, figsize=figsize,\n",
    "                            sharex=True, sharey=True, squeeze=False)\n",
    "    for i, (row_axes, row_matrices) in enumerate(zip(axes, matrices)): # 遍历每一行矩阵和它们对应的子图\n",
    "        for j, (axis, matrix) in enumerate(zip(row_axes, row_matrices)): # 从每一行矩阵遍历每个矩阵和对应的子图\n",
    "            pcm = axis.imshow(matrix.detach().numpy(), cmap=cmap) # 绘制矩阵热图并返回Pseudocolor Map\n",
    "            if i == num_rows-1:\n",
    "                axis.set_xlabel(xlabel)\n",
    "            if j == 0:\n",
    "                axis.set_ylabel(ylabel)\n",
    "            if titles:\n",
    "                axis.set_title(titles[j])\n",
    "    fig.colorbar(pcm, ax=axes, shrink=0.6) # 利用pcm绘制色条\n",
    "\n",
    "if __name__ == '__main__':\n",
    "    attention_weights = torch.eye(10).reshape((2, 2, 5, 5))\n",
    "    show_heatmaps(attention_weights, xlabel='Keys', ylabel='Queries', titles=[['1','2'],['3','4']])\n"
   ]
  }
 ],
 "metadata": {
  "kernelspec": {
   "display_name": "Pytorch",
   "language": "python",
   "name": "python3"
  },
  "language_info": {
   "codemirror_mode": {
    "name": "ipython",
    "version": 3
   },
   "file_extension": ".py",
   "mimetype": "text/x-python",
   "name": "python",
   "nbconvert_exporter": "python",
   "pygments_lexer": "ipython3",
   "version": "3.12.4"
  }
 },
 "nbformat": 4,
 "nbformat_minor": 2
}
