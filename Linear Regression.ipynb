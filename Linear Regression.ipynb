{
 "cells": [
  {
   "cell_type": "code",
   "execution_count": 7,
   "metadata": {},
   "outputs": [
    {
     "data": {
      "text/plain": [
       "[<matplotlib.lines.Line2D at 0x7c1598981890>]"
      ]
     },
     "execution_count": 7,
     "metadata": {},
     "output_type": "execute_result"
    },
    {
     "data": {
      "image/png": "[encoded data removed]",
      "text/plain": [
       "<Figure size 640x480 with 1 Axes>"
      ]
     },
     "metadata": {},
     "output_type": "display_data"
    }
   ],
   "source": [
    "import torch\n",
    "import random\n",
    "import matplotlib.pyplot as plt\n",
    "lr = 0.03\n",
    "num_epochs = 10\n",
    "batch_size = 10\n",
    "\n",
    "\n",
    "def synthetic_data(w, b, num_examples):\n",
    "    # 生成 y = Xw + b + 噪声\n",
    "    X = torch.normal(mean=0, std=1, size=(num_examples, len(w)))\n",
    "    y = torch.matmul(X, w) + b\n",
    "    y += torch.normal(mean=0, std=0.01, size=y.shape)\n",
    "    return X, y.reshape((-1, 1))\n",
    "\n",
    "\n",
    "def data_iter(features, labels, batch_size):\n",
    "    num_examples = len(features)\n",
    "    idx = list(range(num_examples))\n",
    "    random.shuffle(idx)  # 打乱索引 随机读取样本\n",
    "    for i in range(0, num_examples, batch_size):\n",
    "        batch_idx = torch.tensor(idx[i: min(num_examples, i+batch_size)])\n",
    "        yield features[batch_idx], labels[batch_idx]\n",
    "\n",
    "\n",
    "def linreg(X, w, b): # 定义模型:线性回归\n",
    "    return torch.matmul(X, w) + b\n",
    "\n",
    "\n",
    "def squared_loss(y_hat, y): # 定义损失函数:均方损失\n",
    "    return (y_hat-y.reshape(y_hat.shape))**2 / 2\n",
    "\n",
    "def sgd(params, lr, batch_size): # 定义优化方法:小批量剃度下降\n",
    "    with torch.no_grad():\n",
    "        for param in params:\n",
    "            param -= lr * param.grad / batch_size # 更新参数\n",
    "            param.grad.zero_() # 清除累积的梯度\n",
    "\n",
    "true_w = torch.tensor([2, -3.4]) # 定义w和b的实际值\n",
    "true_b = 4.2\n",
    "features, labels = synthetic_data(true_w, true_b, 1000) # 用实际值产生样本和样本标签\n",
    "net = linreg\n",
    "loss_function = squared_loss\n",
    "w = torch.normal(mean=0, std=1, size=true_w.shape, requires_grad=True) # 初始化模型参数\n",
    "b = torch.zeros(1, requires_grad=True)\n",
    "train_loss_res = []\n",
    "error_w_res = []\n",
    "error_b_res = []\n",
    "\n",
    "for epoch in range(num_epochs): # 训练\n",
    "    for X, y in data_iter(features, labels, batch_size):\n",
    "        loss = loss_function(net(X, w, b), y) # X和y的小批量损失\n",
    "        loss.sum().backward() # loss不是一个标量，所以先求和成为标量，并以此计算关于w和b的梯度\n",
    "        sgd([w,b], lr, batch_size)\n",
    "    with torch.no_grad():\n",
    "        train_loss = loss_function(net(features, w, b), labels)\n",
    "        train_loss_res.append(train_loss.mean())\n",
    "        error_w_res.append(torch.abs(true_w-w).mean())\n",
    "        error_b_res.append(torch.abs(true_b-b).mean())\n",
    "plt.plot([epoch for epoch in range(num_epochs)],train_loss_res)\n"
   ]
  }
 ],
 "metadata": {
  "kernelspec": {
   "display_name": "Pytorch",
   "language": "python",
   "name": "python3"
  },
  "language_info": {
   "codemirror_mode": {
    "name": "ipython",
    "version": 3
   },
   "file_extension": ".py",
   "mimetype": "text/x-python",
   "name": "python",
   "nbconvert_exporter": "python",
   "pygments_lexer": "ipython3",
   "version": "3.11.9"
  }
 },
 "nbformat": 4,
 "nbformat_minor": 2
}
