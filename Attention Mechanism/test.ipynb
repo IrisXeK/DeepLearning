{
 "cells": [
  {
   "cell_type": "code",
   "execution_count": 8,
   "metadata": {},
   "outputs": [
    {
     "name": "stdout",
     "output_type": "stream",
     "text": [
      "OrderedDict({'w': Parameter containing:\n",
      "tensor([[ 0.2215,  1.2029, -1.9468,  ...,  0.2628, -0.8912, -1.8328],\n",
      "        [ 0.8258, -0.9149,  0.4117,  ..., -0.9205, -1.1986,  0.9025],\n",
      "        [ 0.0966, -1.2533,  0.3402,  ..., -0.3308,  1.2891,  0.3683],\n",
      "        ...,\n",
      "        [-0.2666, -0.7073,  0.5445,  ...,  0.0704,  0.3914,  1.8200],\n",
      "        [-1.9308,  1.2593,  0.5451,  ..., -0.0685, -0.9009,  0.3660],\n",
      "        [-0.0342, -0.1614,  0.6720,  ..., -1.0741,  0.8181,  0.5400]],\n",
      "       requires_grad=True)})\n",
      "torch.Size([320, 1000])\n"
     ]
    }
   ],
   "source": [
    "import torch\n",
    "from torch import nn\n",
    "class net(nn.Module):\n",
    "    def __init__(self, in_channel=320, out_channel=1000):\n",
    "        super().__init__()\n",
    "        self.w = nn.Parameter(torch.randn((in_channel,out_channel)), requires_grad=True)\n",
    "\n",
    "net_ = net()\n",
    "print(net_._parameters)\n",
    "for param in net_.parameters():\n",
    "    print(param.shape)"
   ]
  }
 ],
 "metadata": {
  "kernelspec": {
   "display_name": "Pytorch",
   "language": "python",
   "name": "python3"
  },
  "language_info": {
   "codemirror_mode": {
    "name": "ipython",
    "version": 3
   },
   "file_extension": ".py",
   "mimetype": "text/x-python",
   "name": "python",
   "nbconvert_exporter": "python",
   "pygments_lexer": "ipython3",
   "version": "3.12.4"
  }
 },
 "nbformat": 4,
 "nbformat_minor": 2
}
