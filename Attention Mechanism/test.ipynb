{
 "cells": [
  {
   "cell_type": "code",
   "execution_count": 4,
   "metadata": {},
   "outputs": [
    {
     "name": "stdout",
     "output_type": "stream",
     "text": [
      "OrderedDict({'weight': Parameter containing:\n",
      "tensor([[-0.1748, -0.0008, -0.0645,  0.1051, -0.1978,  0.1933,  0.0450, -0.1325,\n",
      "          0.0498, -0.1043, -0.1386, -0.1214,  0.0857, -0.2188, -0.2008,  0.1077],\n",
      "        [-0.0603,  0.0607, -0.0073, -0.0716, -0.1683,  0.2131, -0.0011, -0.0672,\n",
      "         -0.2343, -0.1576, -0.0050,  0.0365,  0.0413,  0.1873,  0.2267, -0.1611]],\n",
      "       requires_grad=True), 'bias': Parameter containing:\n",
      "tensor([-0.2190, -0.0873], requires_grad=True)})\n"
     ]
    }
   ],
   "source": [
    "import torch\n",
    "import matplotlib.pyplot as plt\n",
    "from attension_visualization import show_heatmaps\n",
    "a = torch.randn(1, 32)\n",
    "a = torch.nn.Linear(16,2)\n",
    "print(a._parameters)\n"
   ]
  }
 ],
 "metadata": {
  "kernelspec": {
   "display_name": "Pytorch",
   "language": "python",
   "name": "python3"
  },
  "language_info": {
   "codemirror_mode": {
    "name": "ipython",
    "version": 3
   },
   "file_extension": ".py",
   "mimetype": "text/x-python",
   "name": "python",
   "nbconvert_exporter": "python",
   "pygments_lexer": "ipython3",
   "version": "3.12.4"
  }
 },
 "nbformat": 4,
 "nbformat_minor": 2
}
