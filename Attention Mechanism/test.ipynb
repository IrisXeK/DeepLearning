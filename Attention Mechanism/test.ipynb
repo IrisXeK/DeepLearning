{
 "cells": [
  {
   "cell_type": "code",
   "execution_count": 2,
   "metadata": {},
   "outputs": [
    {
     "data": {
      "text/plain": [
       "[[[1, 2]], [[33, 33]], [[3, 4]], [[22, 22]]]"
      ]
     },
     "execution_count": 2,
     "metadata": {},
     "output_type": "execute_result"
    }
   ],
   "source": [
    "import torch\n",
    "from torch import nn\n",
    "class net(nn.Module):\n",
    "    def __init__(self, in_channel=320, out_channel=1000):\n",
    "        super().__init__()\n",
    "        self.w = nn.Parameter(torch.randn((in_channel,out_channel)), requires_grad=True)\n",
    "\n",
    "a = [[[1,2]], [[33,33]]]\n",
    "b = [[[3,4]], [[22,22]]]\n",
    "a+b"
   ]
  }
 ],
 "metadata": {
  "kernelspec": {
   "display_name": "Pytorch",
   "language": "python",
   "name": "python3"
  },
  "language_info": {
   "codemirror_mode": {
    "name": "ipython",
    "version": 3
   },
   "file_extension": ".py",
   "mimetype": "text/x-python",
   "name": "python",
   "nbconvert_exporter": "python",
   "pygments_lexer": "ipython3",
   "version": "3.12.4"
  }
 },
 "nbformat": 4,
 "nbformat_minor": 2
}
