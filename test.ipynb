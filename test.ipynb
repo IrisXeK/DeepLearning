{
 "cells": [
  {
   "cell_type": "code",
   "execution_count": 8,
   "metadata": {},
   "outputs": [
    {
     "name": "stdout",
     "output_type": "stream",
     "text": [
      "[9.0, 5.0]\n"
     ]
    }
   ],
   "source": [
    "import torch\n",
    "import torchvision\n",
    "import requests\n",
    "from matplotlib import pyplot as plt\n",
    "\n",
    "class ResVisualization:\n",
    "    def __init__(self, legend_name:list, data:list,figure_size:tuple,\n",
    "                n_rows, n_cols, num_epochs) -> None:\n",
    "        self.res_dict = dict(zip(legend_name, data))\n",
    "\n",
    "    def plot_res(x,y):\n",
    "        plt.plot(x,y)\n"
   ]
  }
 ],
 "metadata": {
  "kernelspec": {
   "display_name": "Pytorch",
   "language": "python",
   "name": "python3"
  },
  "language_info": {
   "codemirror_mode": {
    "name": "ipython",
    "version": 3
   },
   "file_extension": ".py",
   "mimetype": "text/x-python",
   "name": "python",
   "nbconvert_exporter": "python",
   "pygments_lexer": "ipython3",
   "version": "3.11.9"
  }
 },
 "nbformat": 4,
 "nbformat_minor": 2
}
