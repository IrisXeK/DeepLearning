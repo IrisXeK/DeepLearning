{
 "cells": [
  {
   "cell_type": "code",
   "execution_count": 9,
   "metadata": {},
   "outputs": [
    {
     "name": "stdout",
     "output_type": "stream",
     "text": [
      "x:tensor([0, 1, 2, 3])\n",
      "x2:tensor([0, 1, 2, 3])\n",
      "x3,x4:tensor([0, 1, 2, 3]) tensor([0, 1, 2, 3])\n",
      "mydict2:{'x': tensor([0, 1, 2, 3]), 'x2': tensor([0, 1, 2, 3])}\n",
      "tensor([[True, True, True, True, True, True, True, True, True, True],\n",
      "        [True, True, True, True, True, True, True, True, True, True]])\n"
     ]
    }
   ],
   "source": [
    "import torch\n",
    "from torch import nn\n",
    "from torch.nn import functional as F\n",
    "\n",
    "# 一、加载和保存张量\n",
    "x = torch.arange(4)\n",
    "\"\"\"\n",
    "单个张量可以直接调用load和save函数读写,\n",
    "两个函数都要提供一个名称，\n",
    "save要将保存的变量作为输入\n",
    "\"\"\"\n",
    "torch.save(x,'tensor-x-file')\n",
    "print(f\"x:{x}\")\n",
    "x2 = torch.load('tensor-x-file')\n",
    "print(f\"x2:{x2}\")\n",
    "torch.save([x,x2],'x-list') # 储存一个张量列表,之后将他们读取回内存\n",
    "x3,x4 = torch.load('x-list')\n",
    "print(f\"x3,x4:{x3} {x4}\")\n",
    "mydict = {'x':x, 'x2' : x2}\n",
    "torch.save(mydict, 'tensor-dict') # 写入-读取从字符串映射到张量的字典(当要读取或写入模型中的所有权重时很方便)\n",
    "mydict2 = torch.load('tensor-dict')\n",
    "print(f\"mydict2:{mydict2}\")\n",
    "\n",
    "# 二、加载和保存模型参数\n",
    "\"\"\"\n",
    "深度学习框架提供了内置函数来保存和加载整个网络\n",
    "需要注意的一个重要细节是，这将保存模型的参数而不是保存整个模型。\n",
    "例如,如果有一个3层多层感知机,需要单独指定架构。\n",
    "因为模型本身可以包含任意代码，所以模型本身难以序列化。\n",
    "因此，为了恢复模型，需要用代码生成架构，然后从磁盘加载参数\n",
    "\"\"\"\n",
    "class MLP(nn.Module):\n",
    "    def __init__(self):\n",
    "        super().__init__()\n",
    "        self.hidden = nn.Linear(20,256)\n",
    "        self.output = nn.Linear(256,10)\n",
    "\n",
    "    def forward(self, X):\n",
    "        return self.output(F.relu(self.hidden(X)))\n",
    "    \n",
    "net = MLP()\n",
    "X = torch.randn(size = (2,20))\n",
    "Y = net(X)\n",
    "torch.save(net.state_dict(), 'mlp-params') # 将模型的参数字典储存\n",
    "clone = MLP() # 实例化原始模型的备份\n",
    "clone.load_state_dict(torch.load('mlp-params')) # 读取文件中储存的参数\n",
    "Y_clone = clone(X)\n",
    "print(Y_clone == Y) # 结果验证 两个示例有相同的参数 输入相同的X时 结果相同"
   ]
  },
  {
   "cell_type": "code",
   "execution_count": null,
   "metadata": {},
   "outputs": [],
   "source": []
  }
 ],
 "metadata": {
  "kernelspec": {
   "display_name": "Python 3",
   "language": "python",
   "name": "python3"
  },
  "language_info": {
   "codemirror_mode": {
    "name": "ipython",
    "version": 3
   },
   "file_extension": ".py",
   "mimetype": "text/x-python",
   "name": "python",
   "nbconvert_exporter": "python",
   "pygments_lexer": "ipython3",
   "version": "3.12.2"
  }
 },
 "nbformat": 4,
 "nbformat_minor": 2
}
