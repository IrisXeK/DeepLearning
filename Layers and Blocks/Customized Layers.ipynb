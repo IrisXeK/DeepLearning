{
 "cells": [
  {
   "cell_type": "code",
   "execution_count": 5,
   "metadata": {},
   "outputs": [
    {
     "name": "stdout",
     "output_type": "stream",
     "text": [
      "CenterdLayerd的输出:tensor([-2., -1.,  0.,  1.,  2.])\n",
      "自定义层的前向传播结果:tensor([[0.2169, 0.3406, 0.0000],\n",
      "        [1.8474, 0.0000, 0.0000]])\n"
     ]
    }
   ],
   "source": [
    "import torch\n",
    "from torch import nn\n",
    "from torch.nn import functional as F\n",
    "\n",
    "# 构建没有任何参数的自定义层 只需继承基础层类并实现前向传播功能\n",
    "class CenterdLayer(nn.Module):\n",
    "    def __init__(self):\n",
    "        super().__init__()\n",
    "\n",
    "    def forward(self, X):\n",
    "        return X - X.mean() # 实现从输入中减去均值的功能\n",
    "    \n",
    "layer = CenterdLayer()\n",
    "print(f\"CenterdLayerd的输出:{layer(torch.FloatTensor([1,2,3,4,5]))}\")\n",
    "net = nn.Sequential(\n",
    "    nn.Linear(8, 128),\n",
    "    CenterdLayer()) # 将自定义层作为组件合并到更复杂的模型中\n",
    "\n",
    "# 构建带参数的层 这些参数可以通过训练进行调整\n",
    "class MyLinear(nn.Module): # 自定义版本的全连接层\n",
    "    def __init__(self, in_units, out_units):\n",
    "        super().__init__()\n",
    "        self.weight = nn.Parameter(torch.randn(in_units, out_units))\n",
    "        self.bias = nn.Parameter(torch.randn(out_units))\n",
    "\n",
    "    def forward(self, X):\n",
    "        linear = torch.matmul(X, self.weight.data) + self.bias.data\n",
    "        return F.relu(linear)\n",
    "    \n",
    "linear = MyLinear(5,3)\n",
    "linear.weight # 实例化MyLinear类并访问参数\n",
    "print(f\"自定义层的前向传播结果:{linear(torch.rand(2,5))}\") # 使用自定义层的前向传播\n"
   ]
  }
 ],
 "metadata": {
  "kernelspec": {
   "display_name": "Python 3",
   "language": "python",
   "name": "python3"
  },
  "language_info": {
   "codemirror_mode": {
    "name": "ipython",
    "version": 3
   },
   "file_extension": ".py",
   "mimetype": "text/x-python",
   "name": "python",
   "nbconvert_exporter": "python",
   "pygments_lexer": "ipython3",
   "version": "3.12.2"
  }
 },
 "nbformat": 4,
 "nbformat_minor": 2
}
