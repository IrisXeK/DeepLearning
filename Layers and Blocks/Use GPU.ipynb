{
 "cells": [
  {
   "cell_type": "code",
   "execution_count": 11,
   "metadata": {},
   "outputs": [
    {
     "name": "stdout",
     "output_type": "stream",
     "text": [
      "avaliable GPU:1\n",
      "x.device:cpu\n"
     ]
    }
   ],
   "source": [
    "import torch\n",
    "from torch import nn\n",
    "\"\"\"\n",
    "在PyTorch中,CPU和GPU可以用torch.device('cpu') 和torch.device('cuda')表示。\n",
    "应该注意的是,cpu设备意味着所有物理CPU和内存,这意味着PyTorch的计算将尝试使用所有CPU核心。\n",
    "然而,gpu设备只代表一个卡和相应的显存。\n",
    "如果有多个GPU,使用torch.device(f'cuda:{i}') 来表示第i块GPU(i从0开始)。(cuda:0和cuda是等价的。)\n",
    "\"\"\"\n",
    "print(f\"avaliable GPU:{torch.cuda.device_count()}\") # 查询可用的GPU数量\n",
    "def try_gpu(i=0):\n",
    "    # 如果存在，返回gpu(i), 否则返回cpu()\n",
    "    if torch.cuda.device_count() >= i+1:\n",
    "        return torch.device(f'cuda:{i}')\n",
    "    return torch.device('cpu')\n",
    "\n",
    "def try_all_gpus():\n",
    "    # 返回所有可用的GPU,如果没有GPU则返回 [cpu()]\n",
    "    devices = [torch.device(f'cuda:{i}') for i in range(torch.cuda.device_count())]\n",
    "    return devices if devices else [torch.device('cpu')]\n",
    "# print(try_gpu())\n",
    "# print(try_gpu(10))\n",
    "# print(try_all_gpus())\n",
    "\n",
    "\n",
    "# 张量与GPU\n",
    "\"\"\"\n",
    "可用张量的.device方法查询张量所在设备(默认在CPU上创建)\n",
    "需要注意的是，无论何时要对多个项进行操作，它们都必须在同一个设备上。\n",
    "例如，如果对两个张量求和，需要确保两个张量都位于同一个设备上\n",
    "\"\"\"\n",
    "x = torch.tensor([1,2,3])\n",
    "print(f\"x.device:{x.device}\")"
   ]
  }
 ],
 "metadata": {
  "kernelspec": {
   "display_name": "Python 3",
   "language": "python",
   "name": "python3"
  },
  "language_info": {
   "codemirror_mode": {
    "name": "ipython",
    "version": 3
   },
   "file_extension": ".py",
   "mimetype": "text/x-python",
   "name": "python",
   "nbconvert_exporter": "python",
   "pygments_lexer": "ipython3",
   "version": "3.12.2"
  }
 },
 "nbformat": 4,
 "nbformat_minor": 2
}
